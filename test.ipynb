{
 "cells": [
  {
   "cell_type": "code",
   "execution_count": 1,
   "metadata": {},
   "outputs": [],
   "source": [
    "__import__('pysqlite3')\n",
    "import sys\n",
    "sys.modules['sqlite3'] = sys.modules.pop('pysqlite3')\n",
    "import getpass\n",
    "import os\n",
    "os.environ[\"OPENAI_API_KEY\"] = \"sk-\""
   ]
  },
  {
   "cell_type": "code",
   "execution_count": 2,
   "metadata": {},
   "outputs": [],
   "source": [
    "from langchain_community.vectorstores import Chroma\n",
    "from langchain_openai import OpenAIEmbeddings\n",
    "from langchain_text_splitters import RecursiveCharacterTextSplitter\n",
    "from langchain_community.document_loaders import TextLoader\n"
   ]
  },
  {
   "cell_type": "code",
   "execution_count": 3,
   "metadata": {},
   "outputs": [],
   "source": [
    "base_url = \"http://127.0.0.1:9779/v1\"\n",
    "loader = TextLoader(\"./index.md\")\n",
    "docs = loader.load()\n"
   ]
  },
  {
   "cell_type": "code",
   "execution_count": 4,
   "metadata": {},
   "outputs": [
    {
     "name": "stderr",
     "output_type": "stream",
     "text": [
      "/data/lixubin/RetrieveQA/.env/lib/python3.11/site-packages/tqdm/auto.py:21: TqdmWarning: IProgress not found. Please update jupyter and ipywidgets. See https://ipywidgets.readthedocs.io/en/stable/user_install.html\n",
      "  from .autonotebook import tqdm as notebook_tqdm\n"
     ]
    }
   ],
   "source": [
    "from langchain_community.embeddings import HuggingFaceEmbeddings\n",
    "model_name = \"/data/lixubin/models/m3e-base\"\n",
    "model_kwargs = {'device': 'cuda'}\n",
    "encode_kwargs = {'normalize_embeddings': False}\n",
    "hf = HuggingFaceEmbeddings(\n",
    "    model_name=model_name,\n",
    "    model_kwargs=model_kwargs,\n",
    "    encode_kwargs=encode_kwargs\n",
    ")"
   ]
  },
  {
   "cell_type": "code",
   "execution_count": 5,
   "metadata": {},
   "outputs": [],
   "source": [
    "\n",
    "text_splitter = RecursiveCharacterTextSplitter(chunk_size=2048)\n",
    "chunked_docs = text_splitter.split_documents(docs)\n",
    "vectorstore = Chroma.from_documents(\n",
    "    chunked_docs,\n",
    "    hf\n",
    ")"
   ]
  },
  {
   "cell_type": "code",
   "execution_count": 19,
   "metadata": {},
   "outputs": [
    {
     "data": {
      "text/plain": [
       "Document(page_content=\"要乐奈（日语：要（かなめ） 楽奈（らーな））是由日本娱乐公司Bushiroad策划的次世代少女乐队企划《BanG Dream!》及其衍生作品的登场角色。代表色为#77DD77。\\n\\n简介\\n\\n动画立绘\\nMyGO!!!!!的吉他手，花咲川女子学园初中三年级学生，在LiveHose「RiNG」里神出鬼没的古怪女孩，因为觉得乐队很有趣所以加入了乐队。\\n\\n喜欢的食物是抹茶和荞麦面，不喜欢韭菜和山药泥。\\n\\n爱好是和猫玩，本人也是相当的猫系少女，甚至生日也是“猫の日”2月22日。\\n\\n是左撇子。[2]\\n\\n喜欢穿宽松的衣服。\\n\\n是BanG Dream!企划第一位异色瞳角色。\\n\\n【自己紹介】楽奈。 [1/1]显示视频\\n【一問一答】楽奈編 [1/1]显示视频\\n经历\\n\\t以下内容含有剧透成分，可能影响观赏作品兴趣，请酌情阅读\\n动画\\n折叠\\n要乐奈是原LIVE HOUSE SPACE店长都筑诗船的孙女，一开始活动于SPACE，在SPACE关门后失去了“容身之地”。在RiNG开业后时常提着外婆的吉他到这边来玩。\\n\\n在爱音、爽世和立希于RiNG咖啡厅内讨论成立乐队的事情时，自顾自地走上舞台开始吉他solo.\\n\\n灯，立希，爽世，爱音开始排练后，乐奈擅自闯进排练室，仅看了一眼《春日影》的乐谱就能演奏出来，给只会弹和弦的爱音带来了极大的打击。称灯为“有趣的女人”。\\n\\n立希作出新曲后，又擅自闯进排练室，演奏立希的新曲，刺激立希想要作出更好的曲子。结果立希因无法作出超越姐姐和祥子的乐曲而陷入了自我怀疑，担心的爱音和灯来到花咲川找到立希，偶遇了正在逗猫的乐奈，大家这才知道乐奈就读于花咲川女子学园初中三年级。\\n\\n因为好玩，乐奈决定加入这个四人乐队进行第一次演出。在Live上，乐奈在演奏完不太成功的碧天伴走后听到灯的MC重力小作文感到非常有趣，开始配乐并即兴演奏了之前看过一眼谱子的春日影，此举最终发展成了五人其实是四个人一起演奏/演唱春日影猫猫什么都不知道，猫猫只想爽弹。这直接导致了台下的丰川祥子情绪失控破防而跑出Live House；看见了此景的长崎爽世也跟着情绪失控了，Live成功后爽世在后台大发雷霆，此时乐奈已经离开了后台。\\n\\n爽世缺席练习后，因众人迷茫，乐奈称她们是“无趣的女人”，离开了乐队。在这期间，店员真次凛凛子教导乐奈不要说“女人”要说“女孩子”，乐奈自此改了口癖。\\n\\n灯大量预定了live演出时刻表当中的各种垃圾时间并上台朗诵诗歌重力小作文。这个十分摇滚的举动吸引到了后台偷吃抹茶巧克力面包螺的乐奈。乐奈上台为灯配乐演奏吉他，并称灯为“有趣的女孩子”。后来还把打工中的立希强行拉走一起给灯的诗歌配乐。在灯把台下的爽世拉上台的那场Live，乐奈即兴演奏了即兴曲诗超绊，五名成员自此重归于好。\\n\\n在MyGO成员们重归于好之后灯突然发现自己多预定了一场三天后的live，在MyGO全员讨论后决定参加演出。乐奈负责自己的主音吉他部分的编曲捣乱把爽世的演出服剪成了两半\\n\\n在三天后的Live中，“迷路的乐队”在舞台上先后演奏了迷星叫、迷路日々和碧天伴走，收获了全场观众的欢呼和应援，Live演出大成功。乐奈的外婆都筑诗船前来观看了演出，并且很高兴乐奈再次找到了“容身之地”。\\n\\n（待补充）\\n\\n轶事\\n话很少，讲出来的每句话都很短，用词也很简单。基本上只有立希能听懂她在说什么。\\n\\n真的很像猫猫，怕烫不吃热乎乎的包子，喜欢玩毛线，经常睡觉，会做出蜷缩在暖炉边上睡觉之类的事，中午会在学校的长凳、屋顶甚至树上等地方睡午觉。吃不了薄荷糖果。可以理解猫的叫声。被立希叫做流浪猫（野良猫）。\\n\\n乐队的小朋友担当，经常被爽世照顾。在广播中认证了爽世是自己的妈妈。\\n\\n有时候会玩“固楽奈（かたらーな）”之类的文字梗。\\n\\n没什么长性，一件事干着干着就嫌无聊了，有时甚至过了一会就忘掉了自己一开始想干什么。参加乐队活动往往也是看兴趣，经常要立希请她吃抹茶芭菲才愿意去练习。\\n\\n不太会用智能手机，聊天软件的信息只是在锁屏界面看一眼就算了，所以经常堆积了几百条未读信息。第一次给乐队成员发信息还需要凛凛子帮忙发。后来在长崎爽世的指导下学会了发信息。发的第一条信息就是「扌末茶芭菲（まつちやぱふえ）」。\\n\\n在乐队活动不老实时会被千早爱音投喂煎茶糖果而老实下来。但此方法立希用的时候无效。\\n\\n在学校经常被山吹沙绫投喂面包。\\n\\n虽然加入了学校的手艺部，但平时只是悠闲地待着，然后其他部员给她点心，让她穿部员们做的衣服，或者自己一个人弹吉他，就像是吉祥物一般的存在。\\n\\n对学习不太上心，英语作业忘了写就不写了。尝试过旷课去散步，被批评之后就老实上课了。\\n\\n在个人资料中没有提及就读的学校或年级。后来，在TV动画《BanG Dream! It's MyGO!!!!!》第6话提及要乐奈就读于花咲川女子学园初中三年级，与PAREO同龄。[3]\", metadata={'source': './index.md'})"
      ]
     },
     "execution_count": 19,
     "metadata": {},
     "output_type": "execute_result"
    }
   ],
   "source": [
    "chunked_docs[0]"
   ]
  },
  {
   "cell_type": "code",
   "execution_count": 6,
   "metadata": {},
   "outputs": [],
   "source": [
    "from langchain_openai import ChatOpenAI\n",
    "\n",
    "llm = ChatOpenAI(model=\"/data/lixubin/models/Qwen/Qwen1.5-32B-Chat\" ,base_url=base_url)"
   ]
  },
  {
   "cell_type": "code",
   "execution_count": 7,
   "metadata": {},
   "outputs": [],
   "source": [
    "import bs4\n",
    "from langchain import hub\n",
    "from langchain_community.document_loaders import WebBaseLoader\n",
    "from langchain_community.vectorstores import Chroma\n",
    "from langchain_core.output_parsers import StrOutputParser\n",
    "from langchain_core.runnables import RunnablePassthrough\n",
    "from langchain_openai import OpenAIEmbeddings\n",
    "from langchain_text_splitters import RecursiveCharacterTextSplitter"
   ]
  },
  {
   "cell_type": "code",
   "execution_count": 8,
   "metadata": {},
   "outputs": [],
   "source": [
    "# Retrieve and generate using the relevant snippets of the blog.\n",
    "retriever = vectorstore.as_retriever()\n",
    "prompt = hub.pull(\"rlm/rag-prompt\")\n"
   ]
  },
  {
   "cell_type": "code",
   "execution_count": 9,
   "metadata": {},
   "outputs": [
    {
     "name": "stdout",
     "output_type": "stream",
     "text": [
      "input_variables=['context', 'question'] metadata={'lc_hub_owner': 'rlm', 'lc_hub_repo': 'rag-prompt', 'lc_hub_commit_hash': '50442af133e61576e74536c6556cefe1fac147cad032f4377b60c436e6cdcb6e'} messages=[HumanMessagePromptTemplate(prompt=PromptTemplate(input_variables=['context', 'question'], template=\"You are an assistant for question-answering tasks. Use the following pieces of retrieved context to answer the question. If you don't know the answer, just say that you don't know. Use three sentences maximum and keep the answer concise.\\nQuestion: {question} \\nContext: {context} \\nAnswer:\"))]\n"
     ]
    }
   ],
   "source": [
    "type(prompt)\n",
    "print(prompt)"
   ]
  },
  {
   "cell_type": "code",
   "execution_count": 10,
   "metadata": {},
   "outputs": [],
   "source": [
    "\n",
    "def format_docs(docs):\n",
    "    return \"\\n\\n\".join(doc.page_content for doc in docs)\n",
    "\n",
    "\n",
    "rag_chain = (\n",
    "    {\"context\": retriever | format_docs, \"question\": RunnablePassthrough()}\n",
    "    | prompt\n",
    "    | llm\n",
    "    | StrOutputParser()\n",
    ")"
   ]
  },
  {
   "cell_type": "code",
   "execution_count": 11,
   "metadata": {},
   "outputs": [
    {
     "data": {
      "text/plain": [
       "langchain_core.runnables.base.RunnableSequence"
      ]
     },
     "execution_count": 11,
     "metadata": {},
     "output_type": "execute_result"
    }
   ],
   "source": [
    "type(rag_chain)"
   ]
  },
  {
   "cell_type": "code",
   "execution_count": 12,
   "metadata": {},
   "outputs": [
    {
     "data": {
      "text/plain": [
       "'MyGO是乐队的名字，由高松灯提议并加上五个感叹号确定为\"MyGO!!!!!”。'"
      ]
     },
     "execution_count": 12,
     "metadata": {},
     "output_type": "execute_result"
    }
   ],
   "source": [
    "rag_chain.invoke(\"MyGO是什么?\")"
   ]
  },
  {
   "cell_type": "code",
   "execution_count": 13,
   "metadata": {},
   "outputs": [
    {
     "data": {
      "text/plain": [
       "AIMessage(content='你好，我叫通义千问，是由阿里云开发的预训练语言模型。我被设计用来回答各种问题、提供信息和与用户进行对话。无论你对科技、文化、历史、数学、语言，还是其他任何主题感兴趣，我都会尽力为你提供准确和有用的答案。如果你有任何问题或需要帮助，欢迎随时向我提问。让我们开始交流吧！', response_metadata={'token_usage': {'completion_tokens': 83, 'prompt_tokens': 22, 'total_tokens': 105}, 'model_name': '/data/lixubin/models/Qwen/Qwen1.5-32B-Chat', 'system_fingerprint': None, 'finish_reason': 'stop', 'logprobs': None}, id='run-5538ab79-cb76-410b-90ff-ff8b0b1785c3-0')"
      ]
     },
     "execution_count": 13,
     "metadata": {},
     "output_type": "execute_result"
    }
   ],
   "source": [
    "llm.invoke(\"做个自我介绍吧\")"
   ]
  },
  {
   "cell_type": "code",
   "execution_count": 14,
   "metadata": {},
   "outputs": [],
   "source": [
    "# Get the prompt to use - you can modify this!\n",
    "prompt_2 = hub.pull(\"hwchase17/self-ask-with-search\")"
   ]
  },
  {
   "cell_type": "code",
   "execution_count": null,
   "metadata": {},
   "outputs": [],
   "source": []
  }
 ],
 "metadata": {
  "kernelspec": {
   "display_name": ".env",
   "language": "python",
   "name": "python3"
  },
  "language_info": {
   "codemirror_mode": {
    "name": "ipython",
    "version": 3
   },
   "file_extension": ".py",
   "mimetype": "text/x-python",
   "name": "python",
   "nbconvert_exporter": "python",
   "pygments_lexer": "ipython3",
   "version": "3.11.8"
  }
 },
 "nbformat": 4,
 "nbformat_minor": 2
}
